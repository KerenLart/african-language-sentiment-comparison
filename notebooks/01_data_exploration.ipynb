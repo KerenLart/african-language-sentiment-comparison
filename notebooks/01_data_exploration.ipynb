{
 "cells": [
  {
   "cell_type": "code",
   "execution_count": 1,
   "id": "4c5bdc3b",
   "metadata": {
    "vscode": {
     "languageId": "plaintext"
    }
   },
   "outputs": [],
   "source": [
    "import pandas as pd\n",
    "import numpy as np\n",
    "import matplotlib.pyplot as plt\n",
    "import seaborn as sns\n",
    "from collections import Counter\n",
    "import re\n",
    "import os"
   ]
  },
  {
   "cell_type": "markdown",
   "id": "0579091f",
   "metadata": {},
   "source": [
    "## Set up plotting"
   ]
  },
  {
   "cell_type": "code",
   "execution_count": 3,
   "id": "05469cd3",
   "metadata": {
    "vscode": {
     "languageId": "plaintext"
    }
   },
   "outputs": [
    {
     "name": "stdout",
     "output_type": "stream",
     "text": [
      "=== AFRISENTI DATASET EXPLORATION ===\n"
     ]
    }
   ],
   "source": [
    "plt.style.use('seaborn-v0_8')\n",
    "sns.set_palette(\"husl\")\n",
    "\n",
    "print(\"=== AFRISENTI DATASET EXPLORATION ===\")"
   ]
  },
  {
   "cell_type": "markdown",
   "id": "36f5ff3f",
   "metadata": {},
   "source": [
    "## Load All Datasets\n"
   ]
  },
  {
   "cell_type": "code",
   "execution_count": 5,
   "id": "268ee1bc",
   "metadata": {
    "vscode": {
     "languageId": "plaintext"
    }
   },
   "outputs": [],
   "source": [
    "def load_afrisenti_data():\n",
    "    \"\"\"Load all AfriSenti datasets\"\"\"\n",
    "    data = {}\n",
    "    \n",
    "    # Languages and splits\n",
    "    languages = ['twi', 'hausa']\n",
    "    splits = ['train', 'dev', 'test']\n",
    "    \n",
    "    for lang in languages:\n",
    "        data[lang] = {}\n",
    "        for split in splits:\n",
    "            file_path = f'../data/raw/{lang}_{split}.tsv'\n",
    "            try:\n",
    "                df = pd.read_csv(file_path, sep='\\t')\n",
    "                data[lang][split] = df\n",
    "                print(f\"Loaded {lang} {split}: {df.shape[0]} samples\")\n",
    "            except FileNotFoundError:\n",
    "                print(f\"File not found: {file_path}\")\n",
    "    \n",
    "    return data"
   ]
  },
  {
   "cell_type": "code",
   "execution_count": 6,
   "id": "ecdb44bf",
   "metadata": {
    "vscode": {
     "languageId": "plaintext"
    }
   },
   "outputs": [
    {
     "name": "stdout",
     "output_type": "stream",
     "text": [
      "Loaded twi train: 3481 samples\n",
      "Loaded twi dev: 388 samples\n",
      "Loaded twi test: 949 samples\n",
      "Loaded hausa train: 14172 samples\n",
      "Loaded hausa dev: 2677 samples\n",
      "Loaded hausa test: 5303 samples\n"
     ]
    }
   ],
   "source": [
    "# Load data\n",
    "data = load_afrisenti_data()"
   ]
  },
  {
   "cell_type": "markdown",
   "id": "317db58d",
   "metadata": {},
   "source": [
    "## EXPLORING DATA STRUCTURE\n"
   ]
  },
  {
   "cell_type": "code",
   "execution_count": 8,
   "id": "db4d0902",
   "metadata": {
    "vscode": {
     "languageId": "plaintext"
    }
   },
   "outputs": [
    {
     "name": "stdout",
     "output_type": "stream",
     "text": [
      "\n",
      "=== DATA STRUCTURE EXPLORATION ===\n",
      "\n",
      "TWI columns: ['ID', 'tweet', 'label']\n",
      "Sample data:\n",
      "                ID                                              tweet  \\\n",
      "0  twi_train_00001                        kako be shark but wo ti ewu   \n",
      "1  twi_train_00002            br ne bayie nti na me supporti man city   \n",
      "2  twi_train_00003  s3 woofis3 mada wafutuo tantan no 3y3wo s3mafa...   \n",
      "\n",
      "      label  \n",
      "0  negative  \n",
      "1  negative  \n",
      "2  negative  \n",
      "\n",
      "HAUSA columns: ['ID', 'tweet', 'label']\n",
      "Sample data:\n",
      "               ID                                              tweet     label\n",
      "0  ha_train_00001  @user Da kudin da Arewa babu wani abin azo aga...  negative\n",
      "1  ha_train_00002  @user Kaga wani Adu ar Banda💔😭 wai a haka Shi ...  negative\n",
      "2  ha_train_00003  @user Sai haquri fa yan madrid daman kunce cha...  negative\n"
     ]
    }
   ],
   "source": [
    "print(\"\\n=== DATA STRUCTURE EXPLORATION ===\")\n",
    "for lang in ['twi', 'hausa']:\n",
    "    if lang in data and 'train' in data[lang]:\n",
    "        df = data[lang]['train']\n",
    "        print(f\"\\n{lang.upper()} columns: {list(df.columns)}\")\n",
    "        print(f\"Sample data:\")\n",
    "        print(df.head(3))"
   ]
  },
  {
   "cell_type": "code",
   "execution_count": 9,
   "id": "6d82fec8",
   "metadata": {
    "vscode": {
     "languageId": "plaintext"
    }
   },
   "outputs": [
    {
     "name": "stdout",
     "output_type": "stream",
     "text": [
      "\n",
      "=== LABEL DISTRIBUTION ANALYSIS ===\n"
     ]
    }
   ],
   "source": [
    "print(\"\\n=== LABEL DISTRIBUTION ANALYSIS ===\")\n",
    "def analyze_labels(data):\n",
    "    \"\"\"Analyze label distributions across languages and splits\"\"\"\n",
    "    results = {}\n",
    "    \n",
    "    for lang in ['twi', 'hausa']:\n",
    "        if lang not in data:\n",
    "            continue\n",
    "            \n",
    "        results[lang] = {}\n",
    "        total_samples = 0\n",
    "        \n",
    "        print(f\"\\n--- {lang.upper()} ---\")\n",
    "        \n",
    "        for split in ['train', 'dev', 'test']:\n",
    "            if split in data[lang]:\n",
    "                df = data[lang][split]\n",
    "                # Find label column (might be 'label', 'sentiment', etc.)\n",
    "                label_col = None\n",
    "                for col in ['label', 'sentiment', 'target']:\n",
    "                    if col in df.columns:\n",
    "                        label_col = col\n",
    "                        break\n",
    "                \n",
    "                if label_col:\n",
    "                    label_dist = df[label_col].value_counts()\n",
    "                    results[lang][split] = label_dist\n",
    "                    total_samples += len(df)\n",
    "                    \n",
    "                    print(f\"{split}: {len(df)} samples\")\n",
    "                    for label, count in label_dist.items():\n",
    "                        print(f\"  {label}: {count} ({count/len(df)*100:.1f}%)\")\n",
    "        \n",
    "        print(f\"Total {lang} samples: {total_samples}\")"
   ]
  },
  {
   "cell_type": "code",
   "execution_count": 10,
   "id": "083456ad",
   "metadata": {
    "vscode": {
     "languageId": "plaintext"
    }
   },
   "outputs": [
    {
     "name": "stdout",
     "output_type": "stream",
     "text": [
      "\n",
      "--- TWI ---\n",
      "train: 3481 samples\n",
      "  positive: 1644 (47.2%)\n",
      "  negative: 1315 (37.8%)\n",
      "  neutral: 522 (15.0%)\n",
      "dev: 388 samples\n",
      "  positive: 183 (47.2%)\n",
      "  negative: 147 (37.9%)\n",
      "  neutral: 58 (14.9%)\n",
      "test: 949 samples\n",
      "  positive: 450 (47.4%)\n",
      "  negative: 353 (37.2%)\n",
      "  neutral: 146 (15.4%)\n",
      "Total twi samples: 4818\n",
      "\n",
      "--- HAUSA ---\n",
      "train: 14172 samples\n",
      "  neutral: 4912 (34.7%)\n",
      "  positive: 4687 (33.1%)\n",
      "  negative: 4573 (32.3%)\n",
      "dev: 2677 samples\n",
      "  neutral: 896 (33.5%)\n",
      "  negative: 894 (33.4%)\n",
      "  positive: 887 (33.1%)\n",
      "test: 5303 samples\n",
      "  neutral: 1789 (33.7%)\n",
      "  negative: 1759 (33.2%)\n",
      "  positive: 1755 (33.1%)\n",
      "Total hausa samples: 22152\n"
     ]
    }
   ],
   "source": [
    "label_results = analyze_labels(data)"
   ]
  },
  {
   "cell_type": "markdown",
   "id": "18971610",
   "metadata": {},
   "source": [
    "## Visualize label distributions"
   ]
  },
  {
   "cell_type": "code",
   "execution_count": 12,
   "id": "cfee9c8f",
   "metadata": {
    "vscode": {
     "languageId": "plaintext"
    }
   },
   "outputs": [
    {
     "ename": "TypeError",
     "evalue": "argument of type 'NoneType' is not iterable",
     "output_type": "error",
     "traceback": [
      "\u001b[1;31m---------------------------------------------------------------------------\u001b[0m",
      "\u001b[1;31mTypeError\u001b[0m                                 Traceback (most recent call last)",
      "Cell \u001b[1;32mIn[12], line 6\u001b[0m\n\u001b[0;32m      4\u001b[0m row_idx \u001b[38;5;241m=\u001b[39m \u001b[38;5;241m0\u001b[39m\n\u001b[0;32m      5\u001b[0m \u001b[38;5;28;01mfor\u001b[39;00m lang \u001b[38;5;129;01min\u001b[39;00m [\u001b[38;5;124m'\u001b[39m\u001b[38;5;124mtwi\u001b[39m\u001b[38;5;124m'\u001b[39m, \u001b[38;5;124m'\u001b[39m\u001b[38;5;124mhausa\u001b[39m\u001b[38;5;124m'\u001b[39m]:\n\u001b[1;32m----> 6\u001b[0m     \u001b[38;5;28;01mif\u001b[39;00m \u001b[43mlang\u001b[49m\u001b[43m \u001b[49m\u001b[38;5;129;43;01min\u001b[39;49;00m\u001b[43m \u001b[49m\u001b[43mlabel_results\u001b[49m:\n\u001b[0;32m      7\u001b[0m         col_idx \u001b[38;5;241m=\u001b[39m \u001b[38;5;241m0\u001b[39m\n\u001b[0;32m      8\u001b[0m         \u001b[38;5;28;01mfor\u001b[39;00m split \u001b[38;5;129;01min\u001b[39;00m [\u001b[38;5;124m'\u001b[39m\u001b[38;5;124mtrain\u001b[39m\u001b[38;5;124m'\u001b[39m, \u001b[38;5;124m'\u001b[39m\u001b[38;5;124mdev\u001b[39m\u001b[38;5;124m'\u001b[39m, \u001b[38;5;124m'\u001b[39m\u001b[38;5;124mtest\u001b[39m\u001b[38;5;124m'\u001b[39m]:\n",
      "\u001b[1;31mTypeError\u001b[0m: argument of type 'NoneType' is not iterable"
     ]
    },
    {
     "data": {
      "image/png": "[encoded data removed]",
      "text/plain": [
       "<Figure size 1500x1000 with 6 Axes>"
      ]
     },
     "metadata": {},
     "output_type": "display_data"
    }
   ],
   "source": [
    "fig, axes = plt.subplots(2, 3, figsize=(15, 10))\n",
    "fig.suptitle('Label Distribution Across Languages and Splits', fontsize=16)\n",
    "\n",
    "row_idx = 0\n",
    "for lang in ['twi', 'hausa']:\n",
    "    if lang in label_results:\n",
    "        col_idx = 0\n",
    "        for split in ['train', 'dev', 'test']:\n",
    "            if split in label_results[lang]:\n",
    "                ax = axes[row_idx, col_idx]\n",
    "                label_dist = label_results[lang][split]\n",
    "                \n",
    "                # Create bar plot\n",
    "                bars = ax.bar(label_dist.index, label_dist.values)\n",
    "                ax.set_title(f'{lang.capitalize()} {split.capitalize()}')\n",
    "                ax.set_ylabel('Count')\n",
    "                \n",
    "                # Add value labels on bars\n",
    "                for bar in bars:\n",
    "                    height = bar.get_height()\n",
    "                    ax.text(bar.get_x() + bar.get_width()/2., height,\n",
    "                           f'{int(height)}', ha='center', va='bottom')\n",
    "                \n",
    "                col_idx += 1\n",
    "        row_idx += 1\n",
    "\n",
    "plt.tight_layout()\n",
    "plt.show()"
   ]
  },
  {
   "cell_type": "code",
   "execution_count": null,
   "id": "b0dc13f8",
   "metadata": {
    "vscode": {
     "languageId": "plaintext"
    }
   },
   "outputs": [],
   "source": [
    "# Sample text inspection\n",
    "print(\"\\n=== SAMPLE TEXTS ===\")\n",
    "for lang in ['twi', 'hausa']:\n",
    "    if lang in data and 'train' in data[lang]:\n",
    "        df = data[lang]['train']\n",
    "        text_col = None\n",
    "        label_col = None\n",
    "        \n",
    "        # Find text and label columns\n",
    "        for col in ['text', 'tweet', 'content']:\n",
    "            if col in df.columns:\n",
    "                text_col = col\n",
    "                break\n",
    "        for col in ['label', 'sentiment', 'target']:\n",
    "            if col in df.columns:\n",
    "                label_col = col\n",
    "                break\n",
    "        \n",
    "        if text_col and label_col:\n",
    "            print(f\"\\n{lang.upper()} samples:\")\n",
    "            for sentiment in df[label_col].unique()[:3]:\n",
    "                sample = df[df[label_col] == sentiment].iloc[0]\n",
    "                print(f\"  {sentiment}: {sample[text_col][:100]}...\")"
   ]
  }
 ],
 "metadata": {
  "kernelspec": {
   "display_name": "Python 3 (ipykernel)",
   "language": "python",
   "name": "python3"
  },
  "language_info": {
   "codemirror_mode": {
    "name": "ipython",
    "version": 3
   },
   "file_extension": ".py",
   "mimetype": "text/x-python",
   "name": "python",
   "nbconvert_exporter": "python",
   "pygments_lexer": "ipython3",
   "version": "3.10.13"
  }
 },
 "nbformat": 4,
 "nbformat_minor": 5
}
